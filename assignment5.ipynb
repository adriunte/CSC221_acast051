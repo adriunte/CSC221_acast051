{
  "nbformat": 4,
  "nbformat_minor": 0,
  "metadata": {
    "colab": {
      "provenance": [],
      "authorship_tag": "ABX9TyO9AyOW5cQtsduHsvyZLxPj",
      "include_colab_link": true
    },
    "kernelspec": {
      "name": "python3",
      "display_name": "Python 3"
    },
    "language_info": {
      "name": "python"
    }
  },
  "cells": [
    {
      "cell_type": "markdown",
      "metadata": {
        "id": "view-in-github",
        "colab_type": "text"
      },
      "source": [
        "<a href=\"https://colab.research.google.com/github/adriunte/CSC221_acast051/blob/main/assignment5.ipynb\" target=\"_parent\"><img src=\"https://colab.research.google.com/assets/colab-badge.svg\" alt=\"Open In Colab\"/></a>"
      ]
    },
    {
      "cell_type": "code",
      "execution_count": 1,
      "metadata": {
        "id": "E1jpeEXU6VQV",
        "colab": {
          "base_uri": "https://localhost:8080/"
        },
        "outputId": "107a3226-478f-4a1d-c5aa-8a70d7249748"
      },
      "outputs": [
        {
          "output_type": "stream",
          "name": "stdout",
          "text": [
            "cheese\n",
            "white\n",
            "chicken\n",
            "I like cheese pizza.\n",
            "I like white pizza.\n",
            "I like chicken pizza.\n",
            "\n",
            "I really love pizza!\n",
            "\n"
          ]
        }
      ],
      "source": [
        "# TIY 4-1\n",
        "pizza = ['cheese', 'white', 'chicken']\n",
        "for i in pizza:\n",
        "  print(i)\n",
        "for i in pizza:\n",
        "  print(f'I like {i} pizza.')\n",
        "print('\\nI really love pizza!\\n')"
      ]
    },
    {
      "cell_type": "code",
      "source": [
        "# TIY 4-2\n",
        "animals = ['wolves', 'dogs', 'cats']\n",
        "for i in animals:\n",
        "  print(i)\n",
        "for i in animals:\n",
        "  print(f'A {i} would be a great pet.')\n",
        "print(\"\\nAll of them walk on four legs.\\n\")"
      ],
      "metadata": {
        "colab": {
          "base_uri": "https://localhost:8080/"
        },
        "id": "ZZmwzAZHHDVp",
        "outputId": "1e1e2c4f-3c8d-41a6-ce65-100b652e7e9f"
      },
      "execution_count": 2,
      "outputs": [
        {
          "output_type": "stream",
          "name": "stdout",
          "text": [
            "wolves\n",
            "dogs\n",
            "cats\n",
            "A wolves would be a great pet.\n",
            "A dogs would be a great pet.\n",
            "A cats would be a great pet.\n",
            "\n",
            "All of them walk on four legs.\n",
            "\n"
          ]
        }
      ]
    },
    {
      "cell_type": "code",
      "source": [
        "# TIY 4-3\n",
        "for i in range(1, 21):\n",
        "  print(i)"
      ],
      "metadata": {
        "colab": {
          "base_uri": "https://localhost:8080/"
        },
        "id": "EkqGhEZzHDxN",
        "outputId": "584c198d-520d-47ba-b218-3d8269353aa4"
      },
      "execution_count": 3,
      "outputs": [
        {
          "output_type": "stream",
          "name": "stdout",
          "text": [
            "1\n",
            "2\n",
            "3\n",
            "4\n",
            "5\n",
            "6\n",
            "7\n",
            "8\n",
            "9\n",
            "10\n",
            "11\n",
            "12\n",
            "13\n",
            "14\n",
            "15\n",
            "16\n",
            "17\n",
            "18\n",
            "19\n",
            "20\n"
          ]
        }
      ]
    },
    {
      "cell_type": "code",
      "source": [
        "# TIY 4-4\n",
        "oneM = [i*1 for i in range(1, 10000001)]\n",
        "#print(oneM)"
      ],
      "metadata": {
        "id": "Xan2rG6pHEGl"
      },
      "execution_count": 4,
      "outputs": []
    },
    {
      "cell_type": "code",
      "source": [
        "# TIY 4-5\n",
        "print(min(oneM))\n",
        "print(max(oneM))\n",
        "print(sum(oneM))"
      ],
      "metadata": {
        "colab": {
          "base_uri": "https://localhost:8080/"
        },
        "id": "st79UUleHEU3",
        "outputId": "9a25cd62-a6b9-4981-e372-069ad84bc457"
      },
      "execution_count": 5,
      "outputs": [
        {
          "output_type": "stream",
          "name": "stdout",
          "text": [
            "1\n",
            "10000000\n",
            "50000005000000\n"
          ]
        }
      ]
    },
    {
      "cell_type": "code",
      "source": [
        "# TIY 4-6\n",
        "for i in range(1, 21, 2):\n",
        "  print(i)"
      ],
      "metadata": {
        "colab": {
          "base_uri": "https://localhost:8080/"
        },
        "id": "yqpj0kYsHEmm",
        "outputId": "1594d2a9-a14f-4fd5-cf29-7354bd18b6f2"
      },
      "execution_count": 6,
      "outputs": [
        {
          "output_type": "stream",
          "name": "stdout",
          "text": [
            "1\n",
            "3\n",
            "5\n",
            "7\n",
            "9\n",
            "11\n",
            "13\n",
            "15\n",
            "17\n",
            "19\n"
          ]
        }
      ]
    },
    {
      "cell_type": "code",
      "source": [
        "# TIY 4-7\n",
        "for i in range(3, 31, 3):\n",
        "  print(i)"
      ],
      "metadata": {
        "colab": {
          "base_uri": "https://localhost:8080/"
        },
        "id": "sDFsbh_4HE3C",
        "outputId": "955b71aa-f6c3-4d43-9ce7-b8dcbc358c0d"
      },
      "execution_count": 7,
      "outputs": [
        {
          "output_type": "stream",
          "name": "stdout",
          "text": [
            "3\n",
            "6\n",
            "9\n",
            "12\n",
            "15\n",
            "18\n",
            "21\n",
            "24\n",
            "27\n",
            "30\n"
          ]
        }
      ]
    },
    {
      "cell_type": "code",
      "source": [
        "# TIY 4-8\n",
        "cube = []\n",
        "for i in range(1, 11):\n",
        "  cube.append(i*i*i)\n",
        "print(cube)"
      ],
      "metadata": {
        "colab": {
          "base_uri": "https://localhost:8080/"
        },
        "id": "dvjmQl1uHFJP",
        "outputId": "c0d54643-7f42-4065-e02f-f70b0796882e"
      },
      "execution_count": 8,
      "outputs": [
        {
          "output_type": "stream",
          "name": "stdout",
          "text": [
            "[1, 8, 27, 64, 125, 216, 343, 512, 729, 1000]\n"
          ]
        }
      ]
    },
    {
      "cell_type": "code",
      "source": [
        "# TIY 4-9\n",
        "cubes = [i*i*i for i in range(1, 11)]\n",
        "print(cubes)"
      ],
      "metadata": {
        "colab": {
          "base_uri": "https://localhost:8080/"
        },
        "id": "lkpbH1kFHFXT",
        "outputId": "f952ba94-faf7-4d25-a77c-1fcef15f17ec"
      },
      "execution_count": 9,
      "outputs": [
        {
          "output_type": "stream",
          "name": "stdout",
          "text": [
            "[1, 8, 27, 64, 125, 216, 343, 512, 729, 1000]\n"
          ]
        }
      ]
    },
    {
      "cell_type": "code",
      "source": [
        "# TIY 4-10\n",
        "oneM = [i*1 for i in range(1, 10000001)]\n",
        "print('\\nThe first three items in a list are:')\n",
        "for i in oneM[0:3]:\n",
        "  print(i)\n",
        "print('\\nThree items in the middle are:')\n",
        "for i in oneM[499998:500001]:\n",
        "  print(i)\n",
        "print('\\nThe last three items are:')\n",
        "for i in oneM[-3:]:\n",
        "  print(i)"
      ],
      "metadata": {
        "colab": {
          "base_uri": "https://localhost:8080/"
        },
        "id": "vbJxnGrPHFmK",
        "outputId": "c6797976-684d-4248-9efd-f1083323ddfa"
      },
      "execution_count": 10,
      "outputs": [
        {
          "output_type": "stream",
          "name": "stdout",
          "text": [
            "\n",
            "The first three items in a list are:\n",
            "1\n",
            "2\n",
            "3\n",
            "\n",
            "Three items in the middle are:\n",
            "499999\n",
            "500000\n",
            "500001\n",
            "\n",
            "The last three items are:\n",
            "9999998\n",
            "9999999\n",
            "10000000\n"
          ]
        }
      ]
    },
    {
      "cell_type": "code",
      "source": [
        "# TIY 4-11\n",
        "pizza = ['cheese', 'white', 'chicken']\n",
        "friends_pizza = pizza[:]\n",
        "pizza.append('veggie')\n",
        "friends_pizza.append('extra cheesy')\n",
        "print('My favorite pizzas are:')\n",
        "for i in pizza:\n",
        "  print(i)\n",
        "print('My friends favorite pizza are:')\n",
        "for i in friends_pizza:\n",
        "  print(i)"
      ],
      "metadata": {
        "colab": {
          "base_uri": "https://localhost:8080/"
        },
        "id": "6_m342ajHFz8",
        "outputId": "f94a790b-c0b0-43c8-ab0b-28814c43a56d"
      },
      "execution_count": 11,
      "outputs": [
        {
          "output_type": "stream",
          "name": "stdout",
          "text": [
            "My favorite pizzas are:\n",
            "cheese\n",
            "white\n",
            "chicken\n",
            "veggie\n",
            "My friends favorite pizza are:\n",
            "cheese\n",
            "white\n",
            "chicken\n",
            "extra cheesy\n"
          ]
        }
      ]
    },
    {
      "cell_type": "code",
      "source": [
        "# TIY 4-12\n",
        "foods = ('chicken', 'beef', 'rice', 'noodles', 'stirfried veggies')\n",
        "for food in foods:\n",
        "  print(food)\n",
        "\n",
        "### foods[0] = 'orange chicken'\n",
        "\n",
        "foods = ('orange chicken', 'ground beef', 'rice', 'noodles', 'stirfried veggies')\n",
        "for food in foods:\n",
        "  print(food)"
      ],
      "metadata": {
        "colab": {
          "base_uri": "https://localhost:8080/"
        },
        "id": "1IEbhtesHGCA",
        "outputId": "f5506133-da35-45a1-9de1-594cf84b0de8"
      },
      "execution_count": 12,
      "outputs": [
        {
          "output_type": "stream",
          "name": "stdout",
          "text": [
            "chicken\n",
            "beef\n",
            "rice\n",
            "noodles\n",
            "stirfried veggies\n",
            "orange chicken\n",
            "ground beef\n",
            "rice\n",
            "noodles\n",
            "stirfried veggies\n"
          ]
        }
      ]
    },
    {
      "cell_type": "code",
      "source": [
        "# TIY 4-15\n",
        "pizza = ['cheese', 'white', 'chicken']\n",
        "friends_pizza = pizza[:]\n",
        "pizza.append('veggie')\n",
        "friends_pizza.append('extra cheesy')\n",
        "print('My favorite pizzas are:')\n",
        "for i in pizza:\n",
        "  print(i)\n",
        "print('My friends favorite pizza are:')\n",
        "for i in friends_pizza:\n",
        "  print(i)\n",
        "\n",
        "oneM = [i*1 for i in range(1, 10000001)]\n",
        "print('\\nThe first three items in a list are:')\n",
        "for i in oneM[0:3]:\n",
        "  print(i)\n",
        "print('\\nThree items in the middle are:')\n",
        "for i in oneM[499998:500001]:\n",
        "  print(i)\n",
        "print('\\nThe last three items are:')\n",
        "for i in oneM[-3:]:\n",
        "  print(i)\n",
        "\n",
        "cube = []\n",
        "for i in range(1, 11):\n",
        "  cube.append(i*i*i)\n",
        "print(cube)"
      ],
      "metadata": {
        "colab": {
          "base_uri": "https://localhost:8080/"
        },
        "id": "Ckl235ngHGSc",
        "outputId": "21f93dae-1471-4cfd-c007-d3534e790f4c"
      },
      "execution_count": 13,
      "outputs": [
        {
          "output_type": "stream",
          "name": "stdout",
          "text": [
            "My favorite pizzas are:\n",
            "cheese\n",
            "white\n",
            "chicken\n",
            "veggie\n",
            "My friends favorite pizza are:\n",
            "cheese\n",
            "white\n",
            "chicken\n",
            "extra cheesy\n",
            "\n",
            "The first three items in a list are:\n",
            "1\n",
            "2\n",
            "3\n",
            "\n",
            "Three items in the middle are:\n",
            "499999\n",
            "500000\n",
            "500001\n",
            "\n",
            "The last three items are:\n",
            "9999998\n",
            "9999999\n",
            "10000000\n",
            "[1, 8, 27, 64, 125, 216, 343, 512, 729, 1000]\n"
          ]
        }
      ]
    },
    {
      "cell_type": "code",
      "source": [
        "# Question 2\n",
        "def factorial(n):\n",
        "  lis = [*range(1, n+1)]\n",
        "  facts = 1\n",
        "  for i in lis:\n",
        "    facts*=i\n",
        "  return facts\n",
        "\n",
        "print(factorial(5))\n",
        "print(factorial(10))"
      ],
      "metadata": {
        "colab": {
          "base_uri": "https://localhost:8080/"
        },
        "id": "cH-KH3skHGiD",
        "outputId": "595b7342-7a68-4758-89b0-4a8c4565b1ef"
      },
      "execution_count": 16,
      "outputs": [
        {
          "output_type": "stream",
          "name": "stdout",
          "text": [
            "120\n",
            "3628800\n"
          ]
        }
      ]
    },
    {
      "cell_type": "code",
      "source": [
        "# Question 3\n",
        "def special_factorial(n):\n",
        "  lis = [*range(1, n+1)]\n",
        "  facts = 1\n",
        "  if n >= 4:\n",
        "    lis.remove(4)\n",
        "    for i in lis:\n",
        "      facts*=i\n",
        "  return facts\n",
        "\n",
        "print(special_factorial(5))\n",
        "print(special_factorial(10))"
      ],
      "metadata": {
        "colab": {
          "base_uri": "https://localhost:8080/"
        },
        "id": "w3gb7G4tHGty",
        "outputId": "f529fd48-4e91-4412-c43c-9b43c5c5b200"
      },
      "execution_count": 15,
      "outputs": [
        {
          "output_type": "stream",
          "name": "stdout",
          "text": [
            "30\n",
            "907200\n"
          ]
        }
      ]
    }
  ]
}