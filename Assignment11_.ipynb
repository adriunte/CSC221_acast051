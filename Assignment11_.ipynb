{
  "nbformat": 4,
  "nbformat_minor": 0,
  "metadata": {
    "colab": {
      "provenance": [],
      "authorship_tag": "ABX9TyPcydlWevA0fUQGl6O5HUKJ",
      "include_colab_link": true
    },
    "kernelspec": {
      "name": "python3",
      "display_name": "Python 3"
    },
    "language_info": {
      "name": "python"
    }
  },
  "cells": [
    {
      "cell_type": "markdown",
      "metadata": {
        "id": "view-in-github",
        "colab_type": "text"
      },
      "source": [
        "<a href=\"https://colab.research.google.com/github/adriunte/CSC221_acast051/blob/main/Assignment11_.ipynb\" target=\"_parent\"><img src=\"https://colab.research.google.com/assets/colab-badge.svg\" alt=\"Open In Colab\"/></a>"
      ]
    },
    {
      "cell_type": "code",
      "source": [
        "# Example Code: Dogs\n",
        "class Dog:\n",
        "  def __init__(self, name, age):\n",
        "    \"\"\"Initialize name and age attributes.\"\"\"\n",
        "    self.name = name\n",
        "    self.age = age\n",
        "\n",
        "  def sit(self):\n",
        "    \"\"\"Simulate a dog sitting in response to a command.\"\"\"\n",
        "    print(f\"{self.name} is now sitting.\")\n",
        "\n",
        "  def roll_over(self):\n",
        "    \"\"\"Simulate rolling over in response to a command.\"\"\"\n",
        "    print(f\"{self.name} rolled over!\")\n",
        "\n",
        "my_dog = Dog('Willie', 6)\n",
        "your_dog = Dog('Lucy', 3)\n",
        "\n",
        "print(f\"My dog's name is {my_dog.name}.\")\n",
        "print(f\"My dog is {my_dog.age} years old.\")\n",
        "\n",
        "my_dog.name\n",
        "my_dog.sit()\n",
        "my_dog.roll_over()\n",
        "print(\"\\n\")\n",
        "\n",
        "print(f\"Your dog's name is {your_dog.name}.\")\n",
        "print(f\"Your dog is {your_dog.age} years old.\")\n",
        "your_dog.sit()"
      ],
      "metadata": {
        "colab": {
          "base_uri": "https://localhost:8080/"
        },
        "id": "DyxFEGnYuu6T",
        "outputId": "e68a2d06-d942-4eca-c744-879ec63868eb"
      },
      "execution_count": null,
      "outputs": [
        {
          "output_type": "stream",
          "name": "stdout",
          "text": [
            "My dog's name is Willie.\n",
            "My dog is 6 years old.\n",
            "Willie is now sitting.\n",
            "Willie rolled over!\n",
            "\n",
            "\n",
            "Your dog's name is Lucy.\n",
            "Your dog is 3 years old.\n",
            "Lucy is now sitting.\n"
          ]
        }
      ]
    },
    {
      "cell_type": "code",
      "execution_count": null,
      "metadata": {
        "id": "91Oi0Hw_RgVq",
        "colab": {
          "base_uri": "https://localhost:8080/"
        },
        "outputId": "9e63e159-8997-4f42-dc1a-095adf905007"
      },
      "outputs": [
        {
          "output_type": "stream",
          "name": "stdout",
          "text": [
            "Cachapas\n",
            "Venezuelan food\n",
            "Welcome to Cachapas, we serve Venezuelan food.\n",
            "\n",
            "\n",
            "Welcome to Cachapas, we serve Venezuelan food.\n",
            "Welcome to Chimi Trump, we serve Dominican food.\n",
            "Welcome to Chic-fil-a, we serve fried chicken.\n"
          ]
        }
      ],
      "source": [
        "# TIY 9-1\n",
        "class restaurants:\n",
        "  def __init__(self, restaurant_name, cuisine_type):\n",
        "    \"\"\"Initialize name and age attributes.\"\"\"\n",
        "    self.restaurant_name = restaurant_name\n",
        "    self.cuisine_type = cuisine_type\n",
        "\n",
        "  def describe_restaurant(self):\n",
        "    print(f\"Welcome to {self.restaurant_name}, we serve {self.cuisine_type}.\")\n",
        "\n",
        "restaurant = restaurants('Cachapas', 'Venezuelan food')\n",
        "print(restaurant.restaurant_name)\n",
        "print(restaurant.cuisine_type)\n",
        "restaurant.describe_restaurant()\n",
        "print(\"\\n\")\n",
        "\n",
        "# TIY 9-2\n",
        "restaurant_2 = restaurants('Chimi Trump', 'Dominican food')\n",
        "restaurant_3 = restaurants('Chic-fil-a', 'fried chicken')\n",
        "\n",
        "restaurant.describe_restaurant()\n",
        "restaurant_2.describe_restaurant()\n",
        "restaurant_3.describe_restaurant()"
      ]
    },
    {
      "cell_type": "code",
      "source": [
        "# TIY 9-3\n",
        "class Users:\n",
        "  def __init__(self, first_name, last_name, age, job, hobbie):\n",
        "    self.first_name = first_name\n",
        "    self.last_name = last_name\n",
        "    self.age = age\n",
        "    self.job = job\n",
        "    self.hobbie = hobbie\n",
        "\n",
        "  def describe_user(self):\n",
        "    print(f\"Hey my name is {self.first_name} {self.last_name}. I am {self.age} years old,\")\n",
        "    print(f\"I work as a {self.job} and my favorite hobbie is {self.hobbie}.\")\n",
        "\n",
        "adrian = Users('Adrian', 'Castillo', 21, 'pimp', 'trading')\n",
        "kimberly = Users('Kimberly', 'Motieram', 21, 'hustler', 'taking care of my dog')\n",
        "hemsel = Users('Hemsel', 'Abreu', 22, 'EMT', 'playing videogames')\n",
        "adrian.describe_user()\n",
        "print()\n",
        "kimberly.describe_user()\n",
        "print()\n",
        "hemsel.describe_user()"
      ],
      "metadata": {
        "colab": {
          "base_uri": "https://localhost:8080/"
        },
        "id": "bCzIbWUrsfqU",
        "outputId": "0f6dc1c8-7b31-418e-ce78-b38121f0d5dd"
      },
      "execution_count": null,
      "outputs": [
        {
          "output_type": "stream",
          "name": "stdout",
          "text": [
            "Hey my name is Adrian Castillo. I am 21 years old,\n",
            "I work as a pimp and my favorite hobbie is trading.\n",
            "\n",
            "Hey my name is Kimberly Motieram. I am 21 years old,\n",
            "I work as a hustler and my favorite hobbie is taking care of my dog.\n",
            "\n",
            "Hey my name is Hemsel Abreu. I am 22 years old,\n",
            "I work as a EMT and my favorite hobbie is playing videogames.\n"
          ]
        }
      ]
    },
    {
      "cell_type": "code",
      "source": [
        "# Example Code: Cars\n",
        "class Car:\n",
        "  def __init__(self, make, model, year):\n",
        "    self.make = make\n",
        "    self.model = model\n",
        "    self.year = year\n",
        "    self.odometer_reading = 0\n",
        "\n",
        "  def get_descriptive_name(self):\n",
        "    long_name = f\"{self.year} {self.make} {self.model}\"\n",
        "\n",
        "    return long_name.title()\n",
        "\n",
        "  def read_odometer(self):\n",
        "    print(f\"This car has {self.odometer_reading} miles on it.\")\n",
        "\n",
        "  def update_odometer(self, mileage):\n",
        "    if mileage >= self.odometer_reading:\n",
        "      self.odometer_reading = mileage\n",
        "    else:\n",
        "      print(\"You can't roll back the odometer!\")\n",
        "\n",
        "  def increment_odometer(self, miles):\n",
        "    self.odometer_reading += miles\n",
        "\n",
        "  def fill_gas_tank(self):\n",
        "    print(\"Your tank is now full!\")\n",
        "\n",
        "my_new_car = Car('audi', 'a4', 2024)\n",
        "print(my_new_car.get_descriptive_name())\n",
        "my_new_car.update_odometer(42)\n",
        "my_new_car.read_odometer()\n",
        "my_new_car.increment_odometer(57)\n",
        "my_new_car.read_odometer()\n",
        "print()\n",
        "\n",
        "my_used_car = Car('Subaru', 'Outback', 2019)\n",
        "print(my_used_car.get_descriptive_name())\n",
        "my_used_car.odometer_reading = 23_500\n",
        "my_used_car.read_odometer()\n",
        "my_used_car.increment_odometer(23)\n",
        "my_used_car.read_odometer()\n",
        "print()\n",
        "\n",
        "class Battery:\n",
        "  def __init__(self, battery_size=40):\n",
        "    self.battery_size = battery_size\n",
        "\n",
        "  def describe_battery(self):\n",
        "    print(f\"This car has a {self.battery_size}-hWk battery.\")\n",
        "\n",
        "  def get_range(self):\n",
        "    if self.battery_size == 40:\n",
        "      range = 150\n",
        "    elif self.battery_size == 65:\n",
        "      range = 225\n",
        "\n",
        "    print(f\"This car can go about {range} miles on a full charge\")\n",
        "\n",
        "print()\n",
        "class ElectricCar(Car):\n",
        "  def __init__(self, make, model, year):\n",
        "    super().__init__(make, model, year)\n",
        "    self.battery = Battery()\n",
        "\n",
        "  def fill_gas_tank(self):\n",
        "    print(\"This car doesn't have a gas tank!\")\n",
        "\n",
        "my_leaf = ElectricCar('nissan', 'left', 2024)\n",
        "print(my_leaf.get_descriptive_name())\n",
        "my_leaf.battery.describe_battery()\n",
        "my_leaf.battery.get_range()\n",
        "my_leaf.fill_gas_tank()\n"
      ],
      "metadata": {
        "colab": {
          "base_uri": "https://localhost:8080/"
        },
        "id": "lbx31daNsgAt",
        "outputId": "cef9d6ee-32ae-49b8-ef17-6a9cb2046883"
      },
      "execution_count": null,
      "outputs": [
        {
          "output_type": "stream",
          "name": "stdout",
          "text": [
            "2024 Audi A4\n",
            "This car has 42 miles on it.\n",
            "This car has 99 miles on it.\n",
            "\n",
            "2019 Subaru Outback\n",
            "This car has 23500 miles on it.\n",
            "This car has 23523 miles on it.\n",
            "\n",
            "\n",
            "2024 Nissan Left\n",
            "This car has a 40-hWk battery.\n",
            "This car can go about 150 miles on a full charge\n",
            "This car doesn't have a gas tank!\n"
          ]
        }
      ]
    },
    {
      "cell_type": "code",
      "source": [
        "# TIY 9-6\n",
        "class restaurants:\n",
        "  def __init__(self, restaurant_name, cuisine_type):\n",
        "    \"\"\"Initialize name and age attributes.\"\"\"\n",
        "    self.restaurant_name = restaurant_name\n",
        "    self.cuisine_type = cuisine_type\n",
        "\n",
        "  def describe_restaurant(self):\n",
        "    print(f\"Welcome to {self.restaurant_name}, we serve {self.cuisine_type}.\")\n",
        "\n",
        "class IceCreamStand(restaurants):\n",
        "  def __init__(self, icecreamstand_name, flavors = []):\n",
        "    self.icecreamstand_name = icecreamstand_name\n",
        "    self.flavors = flavors\n",
        "\n",
        "  def describe_icecreamstand(self):\n",
        "    print(f\"Hey our Ice Cream Stand's name is {self.icecreamstand_name}.\")\n",
        "    print(\"Listed below are all the flavors we serve:\")\n",
        "    for i in self.flavors:\n",
        "      print(i)\n",
        "dunkin = IceCreamStand('Dunkin', ['Vanilla', 'Cookies n Cream','Chocolate'])\n",
        "dunkin.describe_icecreamstand()"
      ],
      "metadata": {
        "id": "N14BBtZLnkT7",
        "colab": {
          "base_uri": "https://localhost:8080/"
        },
        "outputId": "73d71a10-d198-44d9-a356-322554966a47"
      },
      "execution_count": 3,
      "outputs": [
        {
          "output_type": "stream",
          "name": "stdout",
          "text": [
            "Hey our Ice Cream Stand's name is Dunkin.\n",
            "Listed below are all the flavors we serve:\n",
            "Vanilla\n",
            "Cookies n Cream\n",
            "Chocolate\n"
          ]
        }
      ]
    },
    {
      "cell_type": "code",
      "source": [
        "# TIY 9-7\n",
        "class Users:\n",
        "  def __init__(self, first_name, last_name, age, job, hobbie):\n",
        "    self.first_name = first_name\n",
        "    self.last_name = last_name\n",
        "    self.age = age\n",
        "    self.job = job\n",
        "    self.hobbie = hobbie\n",
        "\n",
        "  def describe_user(self):\n",
        "    print(f\"Hey my name is {self.first_name} {self.last_name}. I am {self.age} years old,\")\n",
        "    print(f\"I work as a {self.job} and my favorite hobbie is {self.hobbie}.\")\n",
        "\n",
        "class Admin(Users):\n",
        "  def __init__(self, first_name, last_name, privileges = []):\n",
        "    self.first_name = first_name\n",
        "    self.last_name = last_name\n",
        "    self.privileges = privileges\n",
        "\n",
        "  def describe_admin(self):\n",
        "    print(f\"Hello my name is {self.first_name} {self.last_name} but,\")\n",
        "    print(f\"you can call me Admin {self.last_name}\")\n",
        "\n",
        "  def show_privileges(self):\n",
        "    print(f'All my privileges are listed below:')\n",
        "    for i in self.privileges:\n",
        "      print(i)\n",
        "\n",
        "castillo = Admin('Adrian', 'Castillo', ['can add post', 'can delete post', 'can ban user'])\n",
        "castillo.describe_admin()\n",
        "castillo.show_privileges()"
      ],
      "metadata": {
        "id": "PXOZRwtSsgS8",
        "colab": {
          "base_uri": "https://localhost:8080/"
        },
        "outputId": "77ee650a-0ec6-4572-d450-da457b62ea8a"
      },
      "execution_count": 10,
      "outputs": [
        {
          "output_type": "stream",
          "name": "stdout",
          "text": [
            "Hello my name is Adrian Castillo but,\n",
            "you can call me Admin Castillo\n",
            "All my privileges are listed below:\n",
            "can add post\n",
            "can delete post\n",
            "can ban user\n"
          ]
        }
      ]
    }
  ]
}