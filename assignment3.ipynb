{
  "nbformat": 4,
  "nbformat_minor": 0,
  "metadata": {
    "colab": {
      "provenance": [],
      "authorship_tag": "ABX9TyNCYhK/a+uD25h6XXXCwSbn",
      "include_colab_link": true
    },
    "kernelspec": {
      "name": "python3",
      "display_name": "Python 3"
    },
    "language_info": {
      "name": "python"
    }
  },
  "cells": [
    {
      "cell_type": "markdown",
      "metadata": {
        "id": "view-in-github",
        "colab_type": "text"
      },
      "source": [
        "<a href=\"https://colab.research.google.com/github/adriunte/CSC221_acast051/blob/main/assignment3.ipynb\" target=\"_parent\"><img src=\"https://colab.research.google.com/assets/colab-badge.svg\" alt=\"Open In Colab\"/></a>"
      ]
    },
    {
      "cell_type": "code",
      "execution_count": 3,
      "metadata": {
        "colab": {
          "base_uri": "https://localhost:8080/"
        },
        "id": "3FbdJ0lbxvf1",
        "outputId": "6a80e931-28c0-4e10-b9ea-9ad3ac9b4c09"
      },
      "outputs": [
        {
          "output_type": "stream",
          "name": "stdout",
          "text": [
            "Hey I really miss you guys\n"
          ]
        }
      ],
      "source": [
        "# TIY 2-1\n",
        "message1 = \"Hey I really miss you guys\"\n",
        "print(message1)"
      ]
    },
    {
      "cell_type": "code",
      "source": [
        "# TIY 2-2\n",
        "message1 = \"Hey I really miss you guys\"\n",
        "print(message1)\n",
        "\n",
        "message1 = \"Hey you guys suck!\"\n",
        "print(message1)"
      ],
      "metadata": {
        "colab": {
          "base_uri": "https://localhost:8080/"
        },
        "id": "AKudVWOm0pXH",
        "outputId": "9a9345f6-2ee9-497e-bb92-1267f7dee12c"
      },
      "execution_count": 4,
      "outputs": [
        {
          "output_type": "stream",
          "name": "stdout",
          "text": [
            "Hey I really miss you guys\n",
            "Hey you guys suck!\n"
          ]
        }
      ]
    },
    {
      "cell_type": "code",
      "source": [
        "# TIY 2-3\n",
        "eric = 'eric'\n",
        "print(f\"Hello {eric.title()}, would you like to learn some Python today?\")"
      ],
      "metadata": {
        "colab": {
          "base_uri": "https://localhost:8080/"
        },
        "id": "twXyIAQ21E3r",
        "outputId": "40308af2-c50a-4b0b-cfd3-f9a676f02c9a"
      },
      "execution_count": 5,
      "outputs": [
        {
          "output_type": "stream",
          "name": "stdout",
          "text": [
            "Hello Eric, would you like to learn some Python today?\n"
          ]
        }
      ]
    },
    {
      "cell_type": "code",
      "source": [
        "# TIY 2-4\n",
        "eric = 'eric'\n",
        "print(eric.lower())\n",
        "print(eric.upper())\n",
        "print(eric.title())"
      ],
      "metadata": {
        "colab": {
          "base_uri": "https://localhost:8080/"
        },
        "id": "MLAl6OZC7Wxt",
        "outputId": "1a22f1e8-8319-4718-d708-bc103e5f3f5e"
      },
      "execution_count": 7,
      "outputs": [
        {
          "output_type": "stream",
          "name": "stdout",
          "text": [
            "eric\n",
            "ERIC\n",
            "Eric\n"
          ]
        }
      ]
    },
    {
      "cell_type": "code",
      "source": [
        "# TIY 2-5\n",
        "print('\\tTony Saprono once said,\\n\\t\"Bada bing\"')"
      ],
      "metadata": {
        "colab": {
          "base_uri": "https://localhost:8080/"
        },
        "id": "d2jQc_6b7oTA",
        "outputId": "e314d5d4-143d-46f1-a48e-1bcab99a29b3"
      },
      "execution_count": 8,
      "outputs": [
        {
          "output_type": "stream",
          "name": "stdout",
          "text": [
            "\tTony Saprono once said,\n",
            "\t\"Bada bing\"\n"
          ]
        }
      ]
    },
    {
      "cell_type": "code",
      "source": [
        "# TIY 2-6\n",
        "famous_person = \"Tony Saprono\"\n",
        "message = '\"Bada bing\"'\n",
        "\n",
        "print(f\"\\t{famous_person} once said,\\n\\t{message}\")"
      ],
      "metadata": {
        "colab": {
          "base_uri": "https://localhost:8080/"
        },
        "id": "YBQSp6Ka8Af9",
        "outputId": "a7ddda83-4042-4d49-b074-be639fef4d3a"
      },
      "execution_count": 10,
      "outputs": [
        {
          "output_type": "stream",
          "name": "stdout",
          "text": [
            "\tTony Saprono once said,\n",
            "\t\"Bada bing\"\n"
          ]
        }
      ]
    },
    {
      "cell_type": "code",
      "source": [
        "# TIY 2-7\n",
        "jose = '       \\t jose\\n  '\n",
        "print(jose)\n",
        "\n",
        "print(jose.lstrip())\n",
        "print(jose.rstrip())\n",
        "print(jose.strip())"
      ],
      "metadata": {
        "colab": {
          "base_uri": "https://localhost:8080/"
        },
        "id": "UtsOH2pn8foA",
        "outputId": "842a3897-9dd3-4e6f-de28-0756778dc40b"
      },
      "execution_count": 12,
      "outputs": [
        {
          "output_type": "stream",
          "name": "stdout",
          "text": [
            "       \t jose\n",
            "  \n",
            "jose\n",
            "  \n",
            "       \t jose\n",
            "jose\n"
          ]
        }
      ]
    },
    {
      "cell_type": "code",
      "source": [
        "# TIY 2-8\n",
        "# TIY 2-11 This is very useful once we find a use for it.\n",
        "filename = 'python_notes.txt'\n",
        "print(filename.removesuffix('.txt'))"
      ],
      "metadata": {
        "colab": {
          "base_uri": "https://localhost:8080/"
        },
        "id": "aUqNMhLE87WS",
        "outputId": "d24f7be0-f008-46f3-8aec-36823ad2f321"
      },
      "execution_count": 14,
      "outputs": [
        {
          "output_type": "stream",
          "name": "stdout",
          "text": [
            "python_notes\n"
          ]
        }
      ]
    },
    {
      "cell_type": "code",
      "source": [
        "# TIY 2-9\n",
        "print(5+3)\n",
        "print(10-2)\n",
        "print(2*4)\n",
        "\n",
        "# TIY 2-11, Had to place the division in a int function\n",
        "# to unsure it did not come out as a floating point value\n",
        "print(int(16/2))"
      ],
      "metadata": {
        "colab": {
          "base_uri": "https://localhost:8080/"
        },
        "id": "etVE2AN49XOq",
        "outputId": "8043d580-decc-492f-a826-1f4be260a8fa"
      },
      "execution_count": 16,
      "outputs": [
        {
          "output_type": "stream",
          "name": "stdout",
          "text": [
            "8\n",
            "8\n",
            "8\n",
            "8\n"
          ]
        }
      ]
    },
    {
      "cell_type": "code",
      "source": [
        "# TIY 2-10\n",
        "fav_numb = 1\n",
        "print(f\"Hey everybody, my favorite number is {fav_numb}.\")"
      ],
      "metadata": {
        "colab": {
          "base_uri": "https://localhost:8080/"
        },
        "id": "QjffaFSC9uPB",
        "outputId": "66cdf769-72f3-4e9c-b229-faf51a8bb91c"
      },
      "execution_count": 17,
      "outputs": [
        {
          "output_type": "stream",
          "name": "stdout",
          "text": [
            "Hey everybody, my favorite number is 1\n"
          ]
        }
      ]
    },
    {
      "cell_type": "code",
      "source": [
        "# TIY 2-12\n",
        "import this"
      ],
      "metadata": {
        "colab": {
          "base_uri": "https://localhost:8080/"
        },
        "id": "TuGsNrQq-LkZ",
        "outputId": "38511455-1ad4-4847-be5d-d1429bdf572b"
      },
      "execution_count": 18,
      "outputs": [
        {
          "output_type": "stream",
          "name": "stdout",
          "text": [
            "The Zen of Python, by Tim Peters\n",
            "\n",
            "Beautiful is better than ugly.\n",
            "Explicit is better than implicit.\n",
            "Simple is better than complex.\n",
            "Complex is better than complicated.\n",
            "Flat is better than nested.\n",
            "Sparse is better than dense.\n",
            "Readability counts.\n",
            "Special cases aren't special enough to break the rules.\n",
            "Although practicality beats purity.\n",
            "Errors should never pass silently.\n",
            "Unless explicitly silenced.\n",
            "In the face of ambiguity, refuse the temptation to guess.\n",
            "There should be one-- and preferably only one --obvious way to do it.\n",
            "Although that way may not be obvious at first unless you're Dutch.\n",
            "Now is better than never.\n",
            "Although never is often better than *right* now.\n",
            "If the implementation is hard to explain, it's a bad idea.\n",
            "If the implementation is easy to explain, it may be a good idea.\n",
            "Namespaces are one honking great idea -- let's do more of those!\n"
          ]
        }
      ]
    }
  ]
}