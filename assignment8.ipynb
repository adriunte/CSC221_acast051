{
  "nbformat": 4,
  "nbformat_minor": 0,
  "metadata": {
    "colab": {
      "provenance": [],
      "authorship_tag": "ABX9TyPz0J4ZrbwOh+hV1oEzYgp9",
      "include_colab_link": true
    },
    "kernelspec": {
      "name": "python3",
      "display_name": "Python 3"
    },
    "language_info": {
      "name": "python"
    }
  },
  "cells": [
    {
      "cell_type": "markdown",
      "metadata": {
        "id": "view-in-github",
        "colab_type": "text"
      },
      "source": [
        "<a href=\"https://colab.research.google.com/github/adriunte/CSC221_acast051/blob/main/assignment8.ipynb\" target=\"_parent\"><img src=\"https://colab.research.google.com/assets/colab-badge.svg\" alt=\"Open In Colab\"/></a>"
      ]
    },
    {
      "cell_type": "code",
      "execution_count": null,
      "metadata": {
        "colab": {
          "base_uri": "https://localhost:8080/"
        },
        "id": "ZsMct0FwgLIi",
        "outputId": "700c801a-854a-487b-f027-60c8b908c314"
      },
      "outputs": [
        {
          "output_type": "stream",
          "name": "stdout",
          "text": [
            "One of my favorite books is Alice in Wonderland.\n"
          ]
        }
      ],
      "source": [
        "#8-2\n",
        "def favorite_book(title):\n",
        "    print(f\"One of my favorite books is {title}.\")\n",
        "\n",
        "favorite_book(\"Alice in Wonderland\")"
      ]
    },
    {
      "cell_type": "code",
      "source": [
        "#8-3\n",
        "def make_shirt(size, message):\n",
        "    print(f\"Making a {size}-sized shirt with the message: '{message}'.\")\n",
        "\n",
        "make_shirt(\"large\", \"Hello, World!\")\n",
        "make_shirt(size=\"medium\", message=\"Python Lover\")"
      ],
      "metadata": {
        "colab": {
          "base_uri": "https://localhost:8080/"
        },
        "id": "xKOfUu1B0j5u",
        "outputId": "418b09a8-b942-46b3-cb91-cb515da3919a"
      },
      "execution_count": null,
      "outputs": [
        {
          "output_type": "stream",
          "name": "stdout",
          "text": [
            "Making a large-sized shirt with the message: 'Hello, World!'.\n",
            "Making a medium-sized shirt with the message: 'Python Lover'.\n"
          ]
        }
      ]
    },
    {
      "cell_type": "code",
      "source": [
        "#8-4\n",
        "def make_shirt(size=\"large\", message=\"I love Python\"):\n",
        "    print(f\"Making a {size}-sized shirt with the message: '{message}'.\")\n",
        "\n",
        "make_shirt()\n",
        "\n",
        "make_shirt(size=\"medium\")\n",
        "\n",
        "make_shirt(size=\"small\", message=\"Python Programmer\")"
      ],
      "metadata": {
        "colab": {
          "base_uri": "https://localhost:8080/"
        },
        "id": "O7PGZ9uL0t04",
        "outputId": "d7a43836-1253-4f6c-9c14-50b091bafc2b"
      },
      "execution_count": null,
      "outputs": [
        {
          "output_type": "stream",
          "name": "stdout",
          "text": [
            "Making a large-sized shirt with the message: 'I love Python'.\n",
            "Making a medium-sized shirt with the message: 'I love Python'.\n",
            "Making a small-sized shirt with the message: 'Python Programmer'.\n"
          ]
        }
      ]
    }
  ]
}