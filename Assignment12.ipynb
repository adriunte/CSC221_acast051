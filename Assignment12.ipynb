{
  "nbformat": 4,
  "nbformat_minor": 0,
  "metadata": {
    "colab": {
      "provenance": [],
      "authorship_tag": "ABX9TyOwzr4HXRsM/YjXUF6vRVSO",
      "include_colab_link": true
    },
    "kernelspec": {
      "name": "python3",
      "display_name": "Python 3"
    },
    "language_info": {
      "name": "python"
    }
  },
  "cells": [
    {
      "cell_type": "markdown",
      "metadata": {
        "id": "view-in-github",
        "colab_type": "text"
      },
      "source": [
        "<a href=\"https://colab.research.google.com/github/adriunte/CSC221_acast051/blob/main/Assignment12.ipynb\" target=\"_parent\"><img src=\"https://colab.research.google.com/assets/colab-badge.svg\" alt=\"Open In Colab\"/></a>"
      ]
    },
    {
      "cell_type": "code",
      "execution_count": null,
      "metadata": {
        "colab": {
          "base_uri": "https://localhost:8080/"
        },
        "id": "Qv8fMEiRCXO_",
        "outputId": "6e6c5306-c6e5-4d52-a474-cbff47e336c5"
      },
      "outputs": [
        {
          "output_type": "stream",
          "name": "stdout",
          "text": [
            "Wallet 1: $1.00, $5.00, $0.25\n",
            "Total in Wallet 1: 6.25\n",
            "Wallet 2: $10.00, $20.00, $0.10\n",
            "Total in Wallet 2: 30.1\n"
          ]
        }
      ],
      "source": [
        "#Classes Part 2: Option 2\n",
        "class Money:\n",
        "    def __init__(self, value):\n",
        "        self.value = value\n",
        "\n",
        "    def amount(self):\n",
        "        return f\"${self.value:.2f}\"\n",
        "\n",
        "\n",
        "class Bills(Money):\n",
        "    pass\n",
        "\n",
        "\n",
        "class Coins(Money):\n",
        "    pass\n",
        "\n",
        "\n",
        "class One(Bills):\n",
        "    def __init__(self):\n",
        "        super().__init__(1)\n",
        "\n",
        "\n",
        "class Five(Bills):\n",
        "    def __init__(self):\n",
        "        super().__init__(5)\n",
        "\n",
        "\n",
        "class Ten(Bills):\n",
        "    def __init__(self):\n",
        "        super().__init__(10)\n",
        "\n",
        "\n",
        "class Twenty(Bills):\n",
        "    def __init__(self):\n",
        "        super().__init__(20)\n",
        "\n",
        "\n",
        "class Penny(Coins):\n",
        "    def __init__(self):\n",
        "        super().__init__(0.01)\n",
        "\n",
        "\n",
        "class Nickel(Coins):\n",
        "    def __init__(self):\n",
        "        super().__init__(0.05)\n",
        "\n",
        "\n",
        "class Dime(Coins):\n",
        "    def __init__(self):\n",
        "        super().__init__(0.10)\n",
        "\n",
        "\n",
        "class Quarter(Coins):\n",
        "    def __init__(self):\n",
        "        super().__init__(0.25)\n",
        "\n",
        "\n",
        "class Wallet:\n",
        "    def __init__(self):\n",
        "        self.money_list = []\n",
        "\n",
        "    def add_money(self, money):\n",
        "        self.money_list.append(money)\n",
        "\n",
        "    def total_money(self):\n",
        "        return sum(money.value for money in self.money_list)\n",
        "\n",
        "    def __str__(self):\n",
        "        return \", \".join(str(money) for money in self.money_list)\n",
        "\n",
        "wallet1 = Wallet()\n",
        "wallet1.add_money(One())\n",
        "wallet1.add_money(Five())\n",
        "wallet1.add_money(Quarter())\n",
        "\n",
        "wallet2 = Wallet()\n",
        "wallet2.add_money(Ten())\n",
        "wallet2.add_money(Twenty())\n",
        "wallet2.add_money(Dime())\n",
        "\n",
        "print(\"Wallet 1:\", wallet1)\n",
        "print(\"Total in Wallet 1:\", wallet1.total_money())\n",
        "\n",
        "print(\"Wallet 2:\", wallet2)\n",
        "print(\"Total in Wallet 2:\", wallet2.total_money())\n"
      ]
    }
  ]
}