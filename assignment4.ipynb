{
  "nbformat": 4,
  "nbformat_minor": 0,
  "metadata": {
    "colab": {
      "provenance": [],
      "authorship_tag": "ABX9TyO9r7PrvtQCvGFFjoYr+5wx",
      "include_colab_link": true
    },
    "kernelspec": {
      "name": "python3",
      "display_name": "Python 3"
    },
    "language_info": {
      "name": "python"
    }
  },
  "cells": [
    {
      "cell_type": "markdown",
      "metadata": {
        "id": "view-in-github",
        "colab_type": "text"
      },
      "source": [
        "<a href=\"https://colab.research.google.com/github/adriunte/CSC221_acast051/blob/main/assignment4.ipynb\" target=\"_parent\"><img src=\"https://colab.research.google.com/assets/colab-badge.svg\" alt=\"Open In Colab\"/></a>"
      ]
    },
    {
      "cell_type": "code",
      "execution_count": 1,
      "metadata": {
        "colab": {
          "base_uri": "https://localhost:8080/"
        },
        "id": "A0PUgGroIu07",
        "outputId": "8b460a5d-321c-4e82-ff49-cdebd6d36cfd"
      },
      "outputs": [
        {
          "output_type": "stream",
          "name": "stdout",
          "text": [
            "hemsel\n",
            "jose\n",
            "nat\n",
            "jared\n"
          ]
        }
      ],
      "source": [
        "# TIY 3-1\n",
        "names = ['hemsel', 'jose', 'nat', 'jared']\n",
        "for x in names:\n",
        "  print(x)"
      ]
    },
    {
      "cell_type": "code",
      "source": [
        "# TIY 3-2\n",
        "names = ['hemsel', 'jose', 'nat', 'jared']\n",
        "for x in names:\n",
        "  if x[0] == 'j':\n",
        "    print(f\"Oh... its {x.title()}\")\n",
        "  else:\n",
        "    print(f\"Omg hows it going {x.title()}!\")"
      ],
      "metadata": {
        "colab": {
          "base_uri": "https://localhost:8080/"
        },
        "id": "1mFmCozNI6Rr",
        "outputId": "bbab6938-4e45-46bf-80ca-9ba9c62f976d"
      },
      "execution_count": 4,
      "outputs": [
        {
          "output_type": "stream",
          "name": "stdout",
          "text": [
            "Omg hows it going Hemsel!\n",
            "Oh... its Jose\n",
            "Omg hows it going Nat!\n",
            "Oh... its Jared\n"
          ]
        }
      ]
    },
    {
      "cell_type": "code",
      "source": [
        "# TIY 3-3\n",
        "type_v = [\"honda\", \"motorcycle\"]\n",
        "print(f\"I would love to own a {type_v[0].title()} {type_v[1]}.\")"
      ],
      "metadata": {
        "colab": {
          "base_uri": "https://localhost:8080/"
        },
        "id": "g0xeAhqNI69q",
        "outputId": "e9686af4-6143-4b94-a865-adb1a80537fa"
      },
      "execution_count": 5,
      "outputs": [
        {
          "output_type": "stream",
          "name": "stdout",
          "text": [
            "I would love to own a Honda motorcycle.\n"
          ]
        }
      ]
    },
    {
      "cell_type": "code",
      "source": [
        "# TIY 3-4\n",
        "dinner = ['Fermin', 'abuela', 'skrappy']\n",
        "for x in dinner:\n",
        "  print(f\"Hello {x.title()}, this is your exclusive invite to my dinner.\")\n",
        "\n",
        "# TIY 3-5\n",
        "print(f\"\\nSorry but {dinner[1]} won't be able to join us tonight.\\n\")\n",
        "dinner[1] = 'little yala'\n",
        "for x in dinner:\n",
        "  print(f\"Hello {x.title()}, this is your exclusive invite to my dinner.\")\n",
        "\n",
        "# TIY 3-6\n",
        "print('\\nI found a new table, I will be having more people join us.\\n')\n",
        "dinner.insert(0, 'cuto')\n",
        "dinner.insert(2, 'tito')\n",
        "dinner.insert(5, 'hemsito the 3rd')\n",
        "for x in dinner:\n",
        "  print(f\"Hello {x.title()}, this is your exclusive invite to my dinner.\")\n",
        "\n",
        "# TIY 3-7\n",
        "print(\"\\nNevermind... only two of you are invited, my table has yet to come.\\n\")\n",
        "\n",
        "for x in dinner:\n",
        "  while len(dinner) > 2:\n",
        "    popped = dinner.pop()\n",
        "    print(f'Sorry {popped.title()}, you are no longer invited my friend.')\n",
        "\n",
        "for x in dinner:\n",
        "  print(f\"Hello {x.title()}, this is your exclusive invite to my dinner.\")\n",
        "\n",
        "del dinner[1]\n",
        "del dinner[0]\n",
        "print(dinner)\n",
        "\n",
        "# TIY 3-9\n",
        "print(f'\\nHello, I will have {len(dinner)} people over for dinner.')"
      ],
      "metadata": {
        "colab": {
          "base_uri": "https://localhost:8080/"
        },
        "id": "d8-pc56HI7KL",
        "outputId": "471945a0-afa9-4f23-b70c-661a20233fa8"
      },
      "execution_count": 50,
      "outputs": [
        {
          "output_type": "stream",
          "name": "stdout",
          "text": [
            "Hello Fermin, this is your exclusive invite to my dinner.\n",
            "Hello Abuela, this is your exclusive invite to my dinner.\n",
            "Hello Skrappy, this is your exclusive invite to my dinner.\n",
            "\n",
            "Sorry but abuela won't be able to join us tonight.\n",
            "\n",
            "Hello Fermin, this is your exclusive invite to my dinner.\n",
            "Hello Little Yala, this is your exclusive invite to my dinner.\n",
            "Hello Skrappy, this is your exclusive invite to my dinner.\n",
            "\n",
            "I found a new table, I will be having more people join us.\n",
            "\n",
            "Hello Cuto, this is your exclusive invite to my dinner.\n",
            "Hello Fermin, this is your exclusive invite to my dinner.\n",
            "Hello Tito, this is your exclusive invite to my dinner.\n",
            "Hello Little Yala, this is your exclusive invite to my dinner.\n",
            "Hello Skrappy, this is your exclusive invite to my dinner.\n",
            "Hello Hemsito The 3Rd, this is your exclusive invite to my dinner.\n",
            "\n",
            "Nevermind... only two of you are invited, my table has yet to come.\n",
            "\n",
            "Sorry Hemsito The 3Rd, you are no longer invited my friend.\n",
            "Sorry Skrappy, you are no longer invited my friend.\n",
            "Sorry Little Yala, you are no longer invited my friend.\n",
            "Sorry Tito, you are no longer invited my friend.\n",
            "Hello Cuto, this is your exclusive invite to my dinner.\n",
            "Hello Fermin, this is your exclusive invite to my dinner.\n",
            "[]\n",
            "\n",
            "Hello, I will have 0 people over for dinner.\n"
          ]
        }
      ]
    },
    {
      "cell_type": "code",
      "source": [
        "# TIY 3-8\n",
        "places = ['paris', 'dyckman', 'dominican republic', 'cortland', 'mexico']\n",
        "print(places)\n",
        "print(sorted(places))\n",
        "print(places)\n",
        "places.reverse()\n",
        "print(places)\n",
        "places.reverse()\n",
        "print(places)\n",
        "places.sort()\n",
        "print(places)\n",
        "places.sort(reverse=True)\n",
        "print(places)"
      ],
      "metadata": {
        "colab": {
          "base_uri": "https://localhost:8080/"
        },
        "id": "2V_WKvclI72d",
        "outputId": "21b3fce5-f0b5-49e1-e28a-883a0d9b10d9"
      },
      "execution_count": 49,
      "outputs": [
        {
          "output_type": "stream",
          "name": "stdout",
          "text": [
            "['paris', 'dyckman', 'dominican republic', 'cortland', 'mexico']\n",
            "['cortland', 'dominican republic', 'dyckman', 'mexico', 'paris']\n",
            "['paris', 'dyckman', 'dominican republic', 'cortland', 'mexico']\n",
            "['mexico', 'cortland', 'dominican republic', 'dyckman', 'paris']\n",
            "['paris', 'dyckman', 'dominican republic', 'cortland', 'mexico']\n",
            "['cortland', 'dominican republic', 'dyckman', 'mexico', 'paris']\n",
            "['paris', 'mexico', 'dyckman', 'dominican republic', 'cortland']\n"
          ]
        }
      ]
    },
    {
      "cell_type": "code",
      "source": [
        "# TIY 3-10\n",
        "lang = ['spanish', 'french', 'english']\n",
        "lang.sort()\n",
        "lang.sort(reverse=True)\n",
        "print(sorted(lang))\n",
        "lang.pop()\n",
        "lang.insert(0, 'russian')\n",
        "del lang[2]\n",
        "lang[0] = 'polish'"
      ],
      "metadata": {
        "colab": {
          "base_uri": "https://localhost:8080/"
        },
        "id": "n_t00sobI8LB",
        "outputId": "cc721889-a372-4992-a1a9-3ed0845460ef"
      },
      "execution_count": 53,
      "outputs": [
        {
          "output_type": "stream",
          "name": "stdout",
          "text": [
            "['english', 'french', 'spanish']\n"
          ]
        }
      ]
    },
    {
      "cell_type": "code",
      "source": [],
      "metadata": {
        "id": "_ukjtNtlI8Vc"
      },
      "execution_count": null,
      "outputs": []
    }
  ]
}