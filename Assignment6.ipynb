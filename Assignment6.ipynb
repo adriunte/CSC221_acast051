{
  "nbformat": 4,
  "nbformat_minor": 0,
  "metadata": {
    "colab": {
      "provenance": [],
      "authorship_tag": "ABX9TyNhwu4SvZNW+dyY5jRT7hAt",
      "include_colab_link": true
    },
    "kernelspec": {
      "name": "python3",
      "display_name": "Python 3"
    },
    "language_info": {
      "name": "python"
    }
  },
  "cells": [
    {
      "cell_type": "markdown",
      "metadata": {
        "id": "view-in-github",
        "colab_type": "text"
      },
      "source": [
        "<a href=\"https://colab.research.google.com/github/adriunte/CSC221_acast051/blob/main/Assignment6.ipynb\" target=\"_parent\"><img src=\"https://colab.research.google.com/assets/colab-badge.svg\" alt=\"Open In Colab\"/></a>"
      ]
    },
    {
      "cell_type": "code",
      "execution_count": null,
      "metadata": {
        "colab": {
          "base_uri": "https://localhost:8080/"
        },
        "id": "yRsiON_EVhE6",
        "outputId": "00a0032c-d110-47c0-edc7-a26e60a68c9d"
      },
      "outputs": [
        {
          "output_type": "stream",
          "name": "stdout",
          "text": [
            "Is car == 'BMW' I predict True.\n",
            "True\n",
            "Is car == 'bmw' I predict False.\n",
            "False\n",
            "\n",
            "Are these nuts == 'cashews' I predict True.\n",
            "True\n",
            "Are these nuts == 'peanuts' I predict False.\n",
            "False\n",
            "\n",
            "Is motorbike == 'hunda' I predict True.\n",
            "True\n",
            "Is motorbike == 'hundi' I predict False.\n",
            "False\n",
            "\n",
            "Is bike == 'mongoose' I predict True.\n",
            "True\n",
            "Is bike == 'old bike' I predict False.\n",
            "False\n",
            "\n",
            "Is streets == 'Dyckman' I predict True.\n",
            "True\n",
            "Is streets == 'Thayer' I predict False.\n",
            "\n",
            "False\n"
          ]
        }
      ],
      "source": [
        "# TIY 5-1\n",
        "car = \"BMW\"\n",
        "print(\"Is car == 'BMW' I predict True.\")\n",
        "print(car == 'BMW')\n",
        "print(\"Is car == 'bmw' I predict False.\")\n",
        "print(car == 'bmw')\n",
        "\n",
        "nuts = \"cashews\"\n",
        "print(\"\\nAre these nuts == 'cashews' I predict True.\")\n",
        "print(nuts == \"cashews\")\n",
        "print(\"Are these nuts == 'peanuts' I predict False.\")\n",
        "print(nuts == \"peanuts\")\n",
        "\n",
        "motorbike = \"hunda\"\n",
        "print(\"\\nIs motorbike == 'hunda' I predict True.\")\n",
        "print(motorbike == 'hunda')\n",
        "print(\"Is motorbike == 'hundi' I predict False.\")\n",
        "print(motorbike == 'hundi')\n",
        "\n",
        "bike = \"mongoose\"\n",
        "print(\"\\nIs bike == 'mongoose' I predict True.\")\n",
        "print(bike == 'mongoose')\n",
        "print(\"Is bike == 'old bike' I predict False.\")\n",
        "print(bike == 'old bike')\n",
        "\n",
        "streets = \"Dyckman\"\n",
        "print(\"\\nIs streets == 'Dyckman' I predict True.\")\n",
        "print(streets == 'Dyckman')\n",
        "print(\"Is streets == 'Thayer' I predict False.\\n\")\n",
        "print(streets == 'Thayer')"
      ]
    },
    {
      "cell_type": "code",
      "source": [
        "# TIY 5-2\n",
        "coffee = \"I love coffee\"\n",
        "if coffee == \"I love coffee\":\n",
        "  print(True)\n",
        "else:\n",
        "  print(False)\n",
        "\n",
        "coffee = \"I love coffee\"\n",
        "if coffee.lower() == 'i love coffee':\n",
        "  print(True)\n",
        "else:\n",
        "  print(False)\n",
        "\n",
        "age = 21\n",
        "age2020 = 18\n",
        "if age == 21:\n",
        "  print(True)\n",
        "if age2020 != 21:\n",
        "  print(True)\n",
        "if age > age2020:\n",
        "  print(True)\n",
        "if age < age2020:\n",
        "  print(True)\n",
        "if age >= age2020:\n",
        "  print(True)\n",
        "if age <= age2020:\n",
        "  print(True)"
      ],
      "metadata": {
        "colab": {
          "base_uri": "https://localhost:8080/"
        },
        "id": "3TNk4NZoZjZE",
        "outputId": "6d5cfc74-e297-4d37-ac25-f1bd24e7ac1a"
      },
      "execution_count": null,
      "outputs": [
        {
          "output_type": "stream",
          "name": "stdout",
          "text": [
            "True\n",
            "True\n",
            "True\n",
            "True\n",
            "True\n",
            "True\n"
          ]
        }
      ]
    },
    {
      "cell_type": "code",
      "source": [
        "# TIY 5-3\n",
        "alien_color = \"green\"\n",
        "if alien_color == 'green':\n",
        "  print(\"\\n!!!WOW YOU EARNED 5 POINTS!!!\")\n",
        "\n",
        "if alien_color == 'purple':\n",
        "  pass"
      ],
      "metadata": {
        "colab": {
          "base_uri": "https://localhost:8080/"
        },
        "id": "H9CLcYgqZj30",
        "outputId": "21f7ac14-c761-4242-c0bd-3d3ead1f580d"
      },
      "execution_count": null,
      "outputs": [
        {
          "output_type": "stream",
          "name": "stdout",
          "text": [
            "\n",
            "!!!WOW YOU EARNED 5 POINTS!!!\n"
          ]
        }
      ]
    },
    {
      "cell_type": "code",
      "source": [
        "# TIY 5-6\n",
        "age = 21\n",
        "if age < 2:\n",
        "  print(\"your a baby\")\n",
        "elif age >= 2 and age < 4:\n",
        "  print(\"your a toddler\")\n",
        "elif age >= 4 and age < 13:\n",
        "  print(\"your a kid\")\n",
        "elif age >= 13 and age < 20:\n",
        "  print(\"your a teenager\")\n",
        "elif age >= 20 and age < 65:\n",
        "  print(\"your an adult\\n\")\n",
        "else:\n",
        "  print(\"your an elder\")"
      ],
      "metadata": {
        "colab": {
          "base_uri": "https://localhost:8080/"
        },
        "id": "PQxcdd6jZkd2",
        "outputId": "fae0ad19-50c1-4de7-f797-4516d92de2a8"
      },
      "execution_count": null,
      "outputs": [
        {
          "output_type": "stream",
          "name": "stdout",
          "text": [
            "your an adult\n",
            "\n"
          ]
        }
      ]
    }
  ]
}