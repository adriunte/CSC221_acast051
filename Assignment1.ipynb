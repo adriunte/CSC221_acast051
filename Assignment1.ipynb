{
  "nbformat": 4,
  "nbformat_minor": 0,
  "metadata": {
    "colab": {
      "provenance": [],
      "authorship_tag": "ABX9TyOamZmY36TjHTilTjFxnhmw",
      "include_colab_link": true
    },
    "kernelspec": {
      "name": "python3",
      "display_name": "Python 3"
    },
    "language_info": {
      "name": "python"
    }
  },
  "cells": [
    {
      "cell_type": "markdown",
      "metadata": {
        "id": "view-in-github",
        "colab_type": "text"
      },
      "source": [
        "<a href=\"https://colab.research.google.com/github/adriunte/CSC221_acast051/blob/main/Assignment1.ipynb\" target=\"_parent\"><img src=\"https://colab.research.google.com/assets/colab-badge.svg\" alt=\"Open In Colab\"/></a>"
      ]
    },
    {
      "cell_type": "code",
      "execution_count": 2,
      "metadata": {
        "colab": {
          "base_uri": "https://localhost:8080/"
        },
        "id": "iZ1XizN08Vxy",
        "outputId": "0a5d7c81-16b5-421b-cf5c-0d08a3830355"
      },
      "outputs": [
        {
          "output_type": "stream",
          "name": "stdout",
          "text": [
            "Ice Cream Stand\n",
            "Hey kiddo before I let you buy your ice cream, give me a number 1-10.\n",
            "What's your number:6\n",
            "Alright your ice cream comes out to $6 today.\n"
          ]
        }
      ],
      "source": [
        "print(\"Ice Cream Stand\")\n",
        "print(\"Hey kiddo before I let you buy your ice cream, give me a number 1-10.\")\n",
        "price = input(\"What's your number:\")\n",
        "print(f\"Alright your ice cream comes out to ${price} today.\")"
      ]
    }
  ]
}