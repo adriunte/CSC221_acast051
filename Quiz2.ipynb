{
  "nbformat": 4,
  "nbformat_minor": 0,
  "metadata": {
    "colab": {
      "provenance": [],
      "authorship_tag": "ABX9TyPS0R/6ppDILscYqsc7J78G",
      "include_colab_link": true
    },
    "kernelspec": {
      "name": "python3",
      "display_name": "Python 3"
    },
    "language_info": {
      "name": "python"
    }
  },
  "cells": [
    {
      "cell_type": "markdown",
      "metadata": {
        "id": "view-in-github",
        "colab_type": "text"
      },
      "source": [
        "<a href=\"https://colab.research.google.com/github/adriunte/CSC221_acast051/blob/main/Quiz2.ipynb\" target=\"_parent\"><img src=\"https://colab.research.google.com/assets/colab-badge.svg\" alt=\"Open In Colab\"/></a>"
      ]
    },
    {
      "cell_type": "code",
      "execution_count": null,
      "metadata": {
        "colab": {
          "base_uri": "https://localhost:8080/"
        },
        "id": "xWfpQJ1HJ6TL",
        "outputId": "efb0a3d6-65bf-4eb0-8805-3b6086fd13e1"
      },
      "outputs": [
        {
          "output_type": "stream",
          "name": "stdout",
          "text": [
            "x is not assigned a value yet.\n"
          ]
        }
      ],
      "source": [
        "# None\n",
        "x = None\n",
        "if x is None:\n",
        "    print(\"x is not assigned a value yet.\")\n",
        "else:\n",
        "    print(\"x has a value assigned.\")"
      ]
    },
    {
      "cell_type": "code",
      "source": [
        "# Break\n",
        "for i in range(10):\n",
        "    if i == 5:\n",
        "        break\n",
        "    print(i)"
      ],
      "metadata": {
        "colab": {
          "base_uri": "https://localhost:8080/"
        },
        "id": "_7Aco8LrMqvC",
        "outputId": "024d5ef2-7ff0-4789-fef7-f64828f8f2b3"
      },
      "execution_count": null,
      "outputs": [
        {
          "output_type": "stream",
          "name": "stdout",
          "text": [
            "0\n",
            "1\n",
            "2\n",
            "3\n",
            "4\n"
          ]
        }
      ]
    },
    {
      "cell_type": "code",
      "source": [
        "# Except\n",
        "try:\n",
        "    result = 10 / 0\n",
        "except ZeroDivisionError:\n",
        "    print(\"Error: Division by zero\")"
      ],
      "metadata": {
        "colab": {
          "base_uri": "https://localhost:8080/"
        },
        "id": "jaTioYLXMvcF",
        "outputId": "6e41bc1d-37de-4657-c2cf-e651837678e0"
      },
      "execution_count": null,
      "outputs": [
        {
          "output_type": "stream",
          "name": "stdout",
          "text": [
            "Error: Division by zero\n"
          ]
        }
      ]
    },
    {
      "cell_type": "code",
      "source": [
        "# in\n",
        "my_list = [1, 2, 3, 4, 5]\n",
        "if 3 in my_list:\n",
        "    print(\"3 is present in the list.\")\n",
        "else:\n",
        "    print(\"3 is not present in the list.\")"
      ],
      "metadata": {
        "colab": {
          "base_uri": "https://localhost:8080/"
        },
        "id": "1Phcj5TZM8Dp",
        "outputId": "fbc33ebb-0163-4ef9-fade-39cdebb1f93d"
      },
      "execution_count": null,
      "outputs": [
        {
          "output_type": "stream",
          "name": "stdout",
          "text": [
            "3 is present in the list.\n"
          ]
        }
      ]
    },
    {
      "cell_type": "code",
      "source": [
        "# raise\n",
        "def validate_age(age):\n",
        "    if age < 0:\n",
        "        raise ValueError(\"Age cannot be negative.\")\n",
        "    elif age < 18:\n",
        "        raise ValueError(\"You must be at least 18 years old.\")\n",
        "    else:\n",
        "        print(\"Age is valid.\")\n",
        "\n",
        "try:\n",
        "    validate_age(20)\n",
        "except ValueError as e:\n",
        "    print(e)"
      ],
      "metadata": {
        "colab": {
          "base_uri": "https://localhost:8080/"
        },
        "id": "zerC3ZQwM_Ox",
        "outputId": "a361f1e9-540d-43fc-ff72-30ccda040f11"
      },
      "execution_count": null,
      "outputs": [
        {
          "output_type": "stream",
          "name": "stdout",
          "text": [
            "Age is valid.\n"
          ]
        }
      ]
    },
    {
      "cell_type": "code",
      "source": [
        "# False\n",
        "is_valid = False\n",
        "if not is_valid:\n",
        "    print(\"The condition is False.\")\n",
        "else:\n",
        "    print(\"The condition is True.\")"
      ],
      "metadata": {
        "colab": {
          "base_uri": "https://localhost:8080/"
        },
        "id": "6liwPBICNG9C",
        "outputId": "cd555da0-7d0b-4b0e-de9c-d6991bf88406"
      },
      "execution_count": null,
      "outputs": [
        {
          "output_type": "stream",
          "name": "stdout",
          "text": [
            "The condition is False.\n"
          ]
        }
      ]
    },
    {
      "cell_type": "code",
      "source": [
        "# await\n",
        "import asyncio\n",
        "\n",
        "async def greet_after_delay(delay, name):\n",
        "    await asyncio.sleep(delay)\n",
        "    print(f\"Hello, {name}!\")\n",
        "\n",
        "async def main():\n",
        "    await asyncio.gather(\n",
        "        greet_after_delay(2, \"Kim\"),\n",
        "        greet_after_delay(1, \"Adri\")\n",
        "    )\n",
        "\n",
        "asyncio.create_task(main())"
      ],
      "metadata": {
        "colab": {
          "base_uri": "https://localhost:8080/"
        },
        "id": "eqwcLvR3NMe8",
        "outputId": "3201c30b-5d4e-4285-89fa-3a0aa10930d0"
      },
      "execution_count": null,
      "outputs": [
        {
          "output_type": "execute_result",
          "data": {
            "text/plain": [
              "<Task pending name='Task-4' coro=<main() running at <ipython-input-21-06b16ea93501>:8>>"
            ]
          },
          "metadata": {},
          "execution_count": 21
        }
      ]
    },
    {
      "cell_type": "code",
      "source": [
        "# else\n",
        "x = 5\n",
        "if x > 10:\n",
        "    print(\"x is greater than 10.\")\n",
        "else:\n",
        "    print(\"x is not greater than 10.\")"
      ],
      "metadata": {
        "colab": {
          "base_uri": "https://localhost:8080/"
        },
        "id": "gHfpOzdlNXAJ",
        "outputId": "537234a2-1e6a-4948-feb1-0125b81945d3"
      },
      "execution_count": null,
      "outputs": [
        {
          "output_type": "stream",
          "name": "stdout",
          "text": [
            "x is not greater than 10.\n"
          ]
        }
      ]
    },
    {
      "cell_type": "code",
      "source": [
        "# import\n",
        "import math\n",
        "\n",
        "print(\"The value of pi is:\", math.pi)"
      ],
      "metadata": {
        "colab": {
          "base_uri": "https://localhost:8080/"
        },
        "id": "a-wgA_DjNZh7",
        "outputId": "30edb3e6-ff50-4d2f-dcaf-30309a0ed27e"
      },
      "execution_count": null,
      "outputs": [
        {
          "output_type": "stream",
          "name": "stdout",
          "text": [
            "The value of pi is: 3.141592653589793\n"
          ]
        }
      ]
    },
    {
      "cell_type": "code",
      "source": [
        "# pass\n",
        "def my_function():\n",
        "    pass\n",
        "\n",
        "for i in range(5):\n",
        "    pass"
      ],
      "metadata": {
        "id": "0VX9foIINdaD"
      },
      "execution_count": null,
      "outputs": []
    },
    {
      "cell_type": "code",
      "source": [
        "# and\n",
        "x = 5\n",
        "y = 10\n",
        "if x > 0 and y > 0:\n",
        "    print(\"Both x and y are positive.\")\n",
        "else:\n",
        "    print(\"At least one of x and y is not positive.\")"
      ],
      "metadata": {
        "colab": {
          "base_uri": "https://localhost:8080/"
        },
        "id": "FeY1W6WoNleu",
        "outputId": "7195beaa-ed6b-4780-ae60-b922bb9750a2"
      },
      "execution_count": null,
      "outputs": [
        {
          "output_type": "stream",
          "name": "stdout",
          "text": [
            "Both x and y are positive.\n"
          ]
        }
      ]
    },
    {
      "cell_type": "code",
      "source": [
        "# continue\n",
        "for i in range(1, 6):\n",
        "    if i == 3:\n",
        "        continue\n",
        "    print(i)"
      ],
      "metadata": {
        "colab": {
          "base_uri": "https://localhost:8080/"
        },
        "id": "VKmbzJQuNllv",
        "outputId": "22230e5a-792a-46ef-e5dc-a078b264d6b3"
      },
      "execution_count": null,
      "outputs": [
        {
          "output_type": "stream",
          "name": "stdout",
          "text": [
            "1\n",
            "2\n",
            "4\n",
            "5\n"
          ]
        }
      ]
    },
    {
      "cell_type": "code",
      "source": [
        "# for\n",
        "fruits = [\"apple\", \"banana\", \"cherry\"]\n",
        "for fruit in fruits:\n",
        "    print(fruit)"
      ],
      "metadata": {
        "colab": {
          "base_uri": "https://localhost:8080/"
        },
        "id": "A3JW5eUzNlpq",
        "outputId": "e50e0990-4546-4e84-b9f5-78eba9344fbf"
      },
      "execution_count": null,
      "outputs": [
        {
          "output_type": "stream",
          "name": "stdout",
          "text": [
            "apple\n",
            "banana\n",
            "cherry\n"
          ]
        }
      ]
    },
    {
      "cell_type": "code",
      "source": [
        "# lambda\n",
        "add = lambda x, y: x + y\n",
        "print(add(3, 5))"
      ],
      "metadata": {
        "colab": {
          "base_uri": "https://localhost:8080/"
        },
        "id": "GCdoSd51Nlsy",
        "outputId": "501e9699-b9fd-4fb9-9186-6a6436cbb8e4"
      },
      "execution_count": null,
      "outputs": [
        {
          "output_type": "stream",
          "name": "stdout",
          "text": [
            "8\n"
          ]
        }
      ]
    },
    {
      "cell_type": "code",
      "source": [
        "# try\n",
        "try:\n",
        "    result = 10 / 0\n",
        "except ZeroDivisionError:\n",
        "    print(\"Error: Division by zero!\")"
      ],
      "metadata": {
        "colab": {
          "base_uri": "https://localhost:8080/"
        },
        "id": "UqcRGUsPNlx_",
        "outputId": "49438035-91f2-4742-9d54-cf009c1e0ed3"
      },
      "execution_count": null,
      "outputs": [
        {
          "output_type": "stream",
          "name": "stdout",
          "text": [
            "Error: Division by zero!\n"
          ]
        }
      ]
    },
    {
      "cell_type": "code",
      "source": [
        "# True\n",
        "print(True)"
      ],
      "metadata": {
        "colab": {
          "base_uri": "https://localhost:8080/"
        },
        "id": "mViiEIk-OZio",
        "outputId": "b48e0512-4223-4a5f-a6ce-a0ab77eb0995"
      },
      "execution_count": null,
      "outputs": [
        {
          "output_type": "stream",
          "name": "stdout",
          "text": [
            "True\n"
          ]
        }
      ]
    },
    {
      "cell_type": "code",
      "source": [
        "# class\n",
        "class MyClass:\n",
        "    def __init__(self, name):\n",
        "        self.name = name\n",
        "\n",
        "    def greet(self):\n",
        "        print(\"Hello,\", self.name)\n",
        "\n",
        "obj = MyClass(\"Alice\")\n",
        "obj.greet()"
      ],
      "metadata": {
        "colab": {
          "base_uri": "https://localhost:8080/"
        },
        "id": "YjRwtRi9OZkD",
        "outputId": "f32e5ca0-5128-4ab0-f5b9-0ab9d76f1a0f"
      },
      "execution_count": null,
      "outputs": [
        {
          "output_type": "stream",
          "name": "stdout",
          "text": [
            "Hello, Alice\n"
          ]
        }
      ]
    },
    {
      "cell_type": "code",
      "source": [
        "# finally\n",
        "try:\n",
        "    print(\"Try block\")\n",
        "except:\n",
        "    print(\"Exception occurred\")\n",
        "finally:\n",
        "    print(\"Finally block\")"
      ],
      "metadata": {
        "colab": {
          "base_uri": "https://localhost:8080/"
        },
        "id": "DF6zB4TDOZm7",
        "outputId": "6a4c4b5f-7f29-47b6-94eb-7c2bd1a5ff76"
      },
      "execution_count": null,
      "outputs": [
        {
          "output_type": "stream",
          "name": "stdout",
          "text": [
            "Try block\n",
            "Finally block\n"
          ]
        }
      ]
    },
    {
      "cell_type": "code",
      "source": [
        "# is\n",
        "a = [1, 2, 3]\n",
        "b = a\n",
        "print(a is b)"
      ],
      "metadata": {
        "colab": {
          "base_uri": "https://localhost:8080/"
        },
        "id": "qi3T2GgTOZph",
        "outputId": "43c3df34-2c34-4bfe-b4d0-c25ee31552ea"
      },
      "execution_count": null,
      "outputs": [
        {
          "output_type": "stream",
          "name": "stdout",
          "text": [
            "True\n"
          ]
        }
      ]
    },
    {
      "cell_type": "code",
      "source": [
        "# return\n",
        "def add(x, y):\n",
        "    return x + y\n",
        "\n",
        "result = add(3, 5)\n",
        "print(result)"
      ],
      "metadata": {
        "colab": {
          "base_uri": "https://localhost:8080/"
        },
        "id": "2t2QCMzrOZsY",
        "outputId": "e05064b3-c621-47af-b17e-3cb1f2c4f565"
      },
      "execution_count": null,
      "outputs": [
        {
          "output_type": "stream",
          "name": "stdout",
          "text": [
            "8\n"
          ]
        }
      ]
    },
    {
      "cell_type": "code",
      "source": [
        "# as\n",
        "import math as m\n",
        "print(m.sqrt(25))"
      ],
      "metadata": {
        "colab": {
          "base_uri": "https://localhost:8080/"
        },
        "id": "DRGSeb08OZvg",
        "outputId": "f0a9d9a9-5903-4a53-80c5-c87ff6d3a40d"
      },
      "execution_count": null,
      "outputs": [
        {
          "output_type": "stream",
          "name": "stdout",
          "text": [
            "5.0\n"
          ]
        }
      ]
    },
    {
      "cell_type": "code",
      "source": [
        "# def\n",
        "def greet(name):\n",
        "    print(\"Hello,\", name)\n",
        "\n",
        "greet(\"Bob\")"
      ],
      "metadata": {
        "colab": {
          "base_uri": "https://localhost:8080/"
        },
        "id": "sZ1jp5q5OZx4",
        "outputId": "f9fdcb0d-ba07-43ae-8c8e-5d9f6a2f2ca6"
      },
      "execution_count": null,
      "outputs": [
        {
          "output_type": "stream",
          "name": "stdout",
          "text": [
            "Hello, Bob\n"
          ]
        }
      ]
    },
    {
      "cell_type": "code",
      "source": [
        "# from\n",
        "from math import sqrt\n",
        "print(sqrt(25))"
      ],
      "metadata": {
        "colab": {
          "base_uri": "https://localhost:8080/"
        },
        "id": "NcWJUf9IO-LF",
        "outputId": "57810548-0291-400a-d68f-da94c63507e7"
      },
      "execution_count": null,
      "outputs": [
        {
          "output_type": "stream",
          "name": "stdout",
          "text": [
            "5.0\n"
          ]
        }
      ]
    },
    {
      "cell_type": "code",
      "source": [
        "# nonlocal\n",
        "def outer():\n",
        "    x = \"local\"\n",
        "    def inner():\n",
        "        nonlocal x\n",
        "        x = \"non-local\"\n",
        "    inner()\n",
        "    print(\"Value of x:\", x)\n",
        "\n",
        "outer()"
      ],
      "metadata": {
        "colab": {
          "base_uri": "https://localhost:8080/"
        },
        "id": "PULe4drqO-SH",
        "outputId": "2afbd1bb-c7dd-45cd-f47c-20dbdcafd68f"
      },
      "execution_count": null,
      "outputs": [
        {
          "output_type": "stream",
          "name": "stdout",
          "text": [
            "Value of x: non-local\n"
          ]
        }
      ]
    },
    {
      "cell_type": "code",
      "source": [
        "# while\n",
        "i = 0\n",
        "while i < 5:\n",
        "    print(i)\n",
        "    i += 1"
      ],
      "metadata": {
        "colab": {
          "base_uri": "https://localhost:8080/"
        },
        "id": "5Jgop5-sO-Z6",
        "outputId": "aba56cb6-1073-4e49-c916-7658beaac6f0"
      },
      "execution_count": null,
      "outputs": [
        {
          "output_type": "stream",
          "name": "stdout",
          "text": [
            "0\n",
            "1\n",
            "2\n",
            "3\n",
            "4\n"
          ]
        }
      ]
    },
    {
      "cell_type": "code",
      "source": [
        "# async\n",
        "import asyncio\n",
        "\n",
        "async def hello():\n",
        "    print(\"Hello\")\n",
        "    await asyncio.sleep(1)\n",
        "    print(\"World\")\n",
        "\n",
        "if asyncio.get_event_loop().is_running():\n",
        "    await hello()\n",
        "else:\n",
        "    asyncio.run(hello())"
      ],
      "metadata": {
        "colab": {
          "base_uri": "https://localhost:8080/"
        },
        "id": "hOzQ6vgmO-hv",
        "outputId": "6e58a175-db96-48b4-ef6b-30d6b3257221"
      },
      "execution_count": null,
      "outputs": [
        {
          "output_type": "stream",
          "name": "stdout",
          "text": [
            "Hello\n",
            "World\n"
          ]
        }
      ]
    },
    {
      "cell_type": "code",
      "source": [
        "# elif\n",
        "x = 10\n",
        "if x > 5:\n",
        "    print(\"x is greater than 5\")\n",
        "elif x < 5:\n",
        "    print(\"x is less than 5\")\n",
        "else:\n",
        "    print(\"x is equal to 5\")"
      ],
      "metadata": {
        "colab": {
          "base_uri": "https://localhost:8080/"
        },
        "id": "zJ_KMF8QO-oQ",
        "outputId": "3949b1b2-6078-4c77-d0ca-2c022901b9c8"
      },
      "execution_count": null,
      "outputs": [
        {
          "output_type": "stream",
          "name": "stdout",
          "text": [
            "x is greater than 5\n"
          ]
        }
      ]
    },
    {
      "cell_type": "code",
      "source": [
        "# if\n",
        "x = 10\n",
        "if x > 5:\n",
        "    print(\"x is greater than 5\")"
      ],
      "metadata": {
        "colab": {
          "base_uri": "https://localhost:8080/"
        },
        "id": "oVdUdqgyO-w1",
        "outputId": "66a9e4a3-cdb8-4668-df66-6ab8a0e24663"
      },
      "execution_count": null,
      "outputs": [
        {
          "output_type": "stream",
          "name": "stdout",
          "text": [
            "x is greater than 5\n"
          ]
        }
      ]
    },
    {
      "cell_type": "code",
      "source": [
        "# not\n",
        "print(not True)"
      ],
      "metadata": {
        "colab": {
          "base_uri": "https://localhost:8080/"
        },
        "id": "FzbzO_a4O-5c",
        "outputId": "50091167-4cdf-485c-f65e-dc9048dc4308"
      },
      "execution_count": null,
      "outputs": [
        {
          "output_type": "stream",
          "name": "stdout",
          "text": [
            "False\n"
          ]
        }
      ]
    },
    {
      "cell_type": "code",
      "source": [
        "# with\n",
        "try:\n",
        "    with open(\"CSC221.txt\", \"r\") as file:\n",
        "        print(file.read())\n",
        "except FileNotFoundError:\n",
        "    print(\"The file 'CSC221.txt' does not exist.\")"
      ],
      "metadata": {
        "colab": {
          "base_uri": "https://localhost:8080/"
        },
        "id": "O86LUGvnO_Ac",
        "outputId": "4c0e3cbb-b7cb-4afa-e27c-3ed9652efb09"
      },
      "execution_count": null,
      "outputs": [
        {
          "output_type": "stream",
          "name": "stdout",
          "text": [
            "The file 'CSC221.txt' does not exist.\n"
          ]
        }
      ]
    },
    {
      "cell_type": "code",
      "source": [
        "# assert\n",
        "x = 5\n",
        "assert x == 5, \"Value of x should be 5\"\n",
        "print(\"Value of x:\", x)"
      ],
      "metadata": {
        "colab": {
          "base_uri": "https://localhost:8080/"
        },
        "id": "cVpDjZERO_IS",
        "outputId": "a04b0b5b-1c24-4348-c523-22ade64de9b5"
      },
      "execution_count": null,
      "outputs": [
        {
          "output_type": "stream",
          "name": "stdout",
          "text": [
            "Value of x: 5\n"
          ]
        }
      ]
    },
    {
      "cell_type": "code",
      "source": [
        "# del\n",
        "x = 5\n",
        "print(x)\n",
        "del x\n",
        "# Raises NameError\n",
        "print(x)"
      ],
      "metadata": {
        "colab": {
          "base_uri": "https://localhost:8080/",
          "height": 193
        },
        "id": "yo44PioHO_Q3",
        "outputId": "4c09f509-d89d-4c53-b04b-29a24faedbcc"
      },
      "execution_count": null,
      "outputs": [
        {
          "output_type": "stream",
          "name": "stdout",
          "text": [
            "5\n"
          ]
        },
        {
          "output_type": "error",
          "ename": "NameError",
          "evalue": "name 'x' is not defined",
          "traceback": [
            "\u001b[0;31m---------------------------------------------------------------------------\u001b[0m",
            "\u001b[0;31mNameError\u001b[0m                                 Traceback (most recent call last)",
            "\u001b[0;32m<ipython-input-50-e16c315a7a86>\u001b[0m in \u001b[0;36m<cell line: 6>\u001b[0;34m()\u001b[0m\n\u001b[1;32m      4\u001b[0m \u001b[0;32mdel\u001b[0m \u001b[0mx\u001b[0m\u001b[0;34m\u001b[0m\u001b[0;34m\u001b[0m\u001b[0m\n\u001b[1;32m      5\u001b[0m \u001b[0;31m# Raises NameError\u001b[0m\u001b[0;34m\u001b[0m\u001b[0;34m\u001b[0m\u001b[0m\n\u001b[0;32m----> 6\u001b[0;31m \u001b[0mprint\u001b[0m\u001b[0;34m(\u001b[0m\u001b[0mx\u001b[0m\u001b[0;34m)\u001b[0m\u001b[0;34m\u001b[0m\u001b[0;34m\u001b[0m\u001b[0m\n\u001b[0m",
            "\u001b[0;31mNameError\u001b[0m: name 'x' is not defined"
          ]
        }
      ]
    },
    {
      "cell_type": "code",
      "source": [
        "# global\n",
        "x = \"global\"\n",
        "\n",
        "def foo():\n",
        "    global x\n",
        "    x = \"modified global\"\n",
        "\n",
        "foo()\n",
        "print(x)"
      ],
      "metadata": {
        "colab": {
          "base_uri": "https://localhost:8080/"
        },
        "id": "exww21bOO_ZN",
        "outputId": "aa509d35-778b-44b7-947b-0c6a647caf58"
      },
      "execution_count": null,
      "outputs": [
        {
          "output_type": "stream",
          "name": "stdout",
          "text": [
            "modified global\n"
          ]
        }
      ]
    },
    {
      "cell_type": "code",
      "source": [
        "# or\n",
        "x = 5\n",
        "if x < 0 or x > 10:\n",
        "    print(\"x is either negative or greater than 10\")"
      ],
      "metadata": {
        "id": "nI01c-5QO_gw"
      },
      "execution_count": null,
      "outputs": []
    },
    {
      "cell_type": "code",
      "source": [
        "# yield\n",
        "def my_generator():\n",
        "    yield 1\n",
        "    yield 2\n",
        "    yield 3\n",
        "\n",
        "for value in my_generator():\n",
        "    print(value)"
      ],
      "metadata": {
        "colab": {
          "base_uri": "https://localhost:8080/"
        },
        "id": "TwovLXZTO_nh",
        "outputId": "b4d2ac44-2ca9-45ce-cb3b-07393a4b5a37"
      },
      "execution_count": null,
      "outputs": [
        {
          "output_type": "stream",
          "name": "stdout",
          "text": [
            "1\n",
            "2\n",
            "3\n"
          ]
        }
      ]
    }
  ]
}