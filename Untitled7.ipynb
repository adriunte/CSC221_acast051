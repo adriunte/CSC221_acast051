{
  "nbformat": 4,
  "nbformat_minor": 0,
  "metadata": {
    "colab": {
      "provenance": [],
      "authorship_tag": "ABX9TyOMAKn85WBLuXxx3cVJ5GGz",
      "include_colab_link": true
    },
    "kernelspec": {
      "name": "python3",
      "display_name": "Python 3"
    },
    "language_info": {
      "name": "python"
    }
  },
  "cells": [
    {
      "cell_type": "markdown",
      "metadata": {
        "id": "view-in-github",
        "colab_type": "text"
      },
      "source": [
        "<a href=\"https://colab.research.google.com/github/adriunte/CSC221_acast051/blob/main/Untitled7.ipynb\" target=\"_parent\"><img src=\"https://colab.research.google.com/assets/colab-badge.svg\" alt=\"Open In Colab\"/></a>"
      ]
    },
    {
      "cell_type": "code",
      "execution_count": 6,
      "metadata": {
        "colab": {
          "base_uri": "https://localhost:8080/"
        },
        "id": "YZ6kUiZhcSKi",
        "outputId": "e985bd76-a384-4d74-e8b8-532579094e7b"
      },
      "outputs": [
        {
          "output_type": "stream",
          "name": "stdout",
          "text": [
            "hemsel\n",
            "abreu\n",
            "22\n",
            "san francisco de macorís\n"
          ]
        }
      ],
      "source": [
        "# TIY 6-1\n",
        "hemsel = {'first_name': 'hemsel', 'last_name': 'abreu', 'age': 22, 'city': 'san francisco de macorís'}\n",
        "print(hemsel['first_name'])\n",
        "print(hemsel['last_name'])\n",
        "print(hemsel['age'])\n",
        "print(hemsel['city'])"
      ]
    },
    {
      "cell_type": "code",
      "source": [
        "# TIY 6-2\n",
        "fav_number = {\n",
        "    'hemsel': 11,\n",
        "    'alex': 7,\n",
        "    'kimberly': 19,\n",
        "    'don roberto': 16,\n",
        "    'adrian': 1,\n",
        "}\n",
        "print(f\"Adrians favorite number is {fav_number['adrian']}.\")\n",
        "print(f\"Hemsel favorite number is {fav_number['hemsel']}.\")\n",
        "print(f\"Alex favorite number is {fav_number['alex']}.\")\n",
        "print(f\"Don Roberto favorite number is {fav_number['don roberto']}.\")\n",
        "print(f\"Kimberly favorite number is {fav_number['kimberly']}.\")"
      ],
      "metadata": {
        "colab": {
          "base_uri": "https://localhost:8080/"
        },
        "id": "esILPLqIdrsP",
        "outputId": "676a5d6f-9367-4436-a9d6-68351e7d9d5a"
      },
      "execution_count": 10,
      "outputs": [
        {
          "output_type": "stream",
          "name": "stdout",
          "text": [
            "Adrians favorite number is 1.\n",
            "Hemsel favorite number is 11.\n",
            "Alex favorite number is 7.\n",
            "Don Roberto favorite number is 16.\n",
            "Kimberly favorite number is 19.\n"
          ]
        }
      ]
    },
    {
      "cell_type": "code",
      "source": [
        "# TIY 6-3\n",
        "words = {'keys': \"name of a value\",\n",
        "         'key-value': \"a name and its value in a dict\",\n",
        "         'element': \"a item in a list\",\n",
        "         'list': \"something containing elements\",\n",
        "         'tuple': \"similar to list but can't be changed\",\n",
        "         'Syntax': 'Syntax refers to the rules and structure of the Python language',\n",
        "         'Variable': 'A variable is a named storage location in memory that holds a value',\n",
        "         'Data Type': 'A data type defines the kind of data that a variable can hold',\n",
        "         'String': 'A string is a sequence of characters enclosed in single or double quotes',\n",
        "         'Float': 'A float (floating-point number) is a number that has a decimal point or an exponent',}\n",
        "\n",
        "for key, value in words.items():\n",
        "    sentence = \"'{}': '{}'.\\n\".format(key, value)\n",
        "    print(sentence)"
      ],
      "metadata": {
        "colab": {
          "base_uri": "https://localhost:8080/"
        },
        "id": "o7Ap-thqexSu",
        "outputId": "8bcfc579-b734-449a-db70-12d76ab96d58"
      },
      "execution_count": 14,
      "outputs": [
        {
          "output_type": "stream",
          "name": "stdout",
          "text": [
            "'keys': 'name of a value'.\n",
            "\n",
            "'key-value': 'a name and its value in a dict'.\n",
            "\n",
            "'element': 'a item in a list'.\n",
            "\n",
            "'list': 'something containing elements'.\n",
            "\n",
            "'tuple': 'similar to list but can't be changed'.\n",
            "\n",
            "'Syntax': 'Syntax refers to the rules and structure of the Python language'.\n",
            "\n",
            "'Variable': 'A variable is a named storage location in memory that holds a value'.\n",
            "\n",
            "'Data Type': 'A data type defines the kind of data that a variable can hold'.\n",
            "\n",
            "'String': 'A string is a sequence of characters enclosed in single or double quotes'.\n",
            "\n",
            "'Float': 'A float (floating-point number) is a number that has a decimal point or an exponent'.\n",
            "\n"
          ]
        }
      ]
    },
    {
      "cell_type": "code",
      "source": [
        "# TIY 6-11\n",
        "cities = {\n",
        "    'Paris': {\n",
        "        'country': 'France',\n",
        "        'population': '2.1 million',\n",
        "        'fun_fact': 'They speak french',\n",
        "    },\n",
        "\n",
        "    'New York': {\n",
        "        'country': 'USA',\n",
        "        'population': '8.4 million',\n",
        "        'fun_fact': 'They speak many different languages with English the main one',\n",
        "    },\n",
        "\n",
        "    'San Francisco de Macoris': {\n",
        "        'country': 'The Dominican Republic',\n",
        "        'population': '800k',\n",
        "        'fun_fact': 'They speak spanish',\n",
        "    }\n",
        "}\n",
        "\n",
        "for key, value in cities.items():\n",
        "  statement = f\"{key} is located in {value['country']} with a population of {value['population']} people.\"\n",
        "  fun_fact = f\"Fun fact about {key}: {value['fun_fact']}.\\n\"\n",
        "  print(statement)\n",
        "  print(fun_fact)"
      ],
      "metadata": {
        "colab": {
          "base_uri": "https://localhost:8080/"
        },
        "id": "eoyYi3L8gS0G",
        "outputId": "d4454a18-3ac6-454a-d0ab-3bb21cda846d"
      },
      "execution_count": 21,
      "outputs": [
        {
          "output_type": "stream",
          "name": "stdout",
          "text": [
            "Paris is located in France with a population of 2.1 million people.\n",
            "Fun fact about Paris: They speak french.\n",
            "\n",
            "New York is located in USA with a population of 8.4 million people.\n",
            "Fun fact about New York: They speak many different languages with English the main one.\n",
            "\n",
            "San Francisco de Macoris is located in The Dominican Republic with a population of 800k people.\n",
            "Fun fact about San Francisco de Macoris: They speak spanish.\n",
            "\n"
          ]
        }
      ]
    }
  ]
}